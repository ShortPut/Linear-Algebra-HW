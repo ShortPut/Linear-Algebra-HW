{
 "cells": [
  {
   "cell_type": "code",
   "execution_count": 1,
   "id": "f8b4c4b5",
   "metadata": {
    "deletable": false,
    "editable": false,
    "nbgrader": {
     "cell_type": "code",
     "checksum": "9fbe3d2433eca28ab5b33ebbbd53d96c",
     "grade": false,
     "grade_id": "cell-cf709fdc88901d37",
     "locked": true,
     "schema_version": 3,
     "solution": false,
     "task": false
    }
   },
   "outputs": [],
   "source": [
    "import numpy as np\n",
    "import scipy.linalg as la\n",
    "import matplotlib.pyplot as plt"
   ]
  },
  {
   "cell_type": "markdown",
   "id": "f662fb7e",
   "metadata": {
    "deletable": false,
    "editable": false,
    "nbgrader": {
     "cell_type": "markdown",
     "checksum": "b760157d6f15d8ba56ab9ce2a016a12d",
     "grade": false,
     "grade_id": "cell-4fb8743e2af92a7f",
     "locked": true,
     "schema_version": 3,
     "solution": false,
     "task": false
    }
   },
   "source": [
    "## Problem 1 (6 marks)\n",
    "\n",
    "The goal of this problem is to find the unique function of the form\n",
    "\n",
    "$$\n",
    "f(t) = c_0 + c_1 \\cos(\\pi t) + c_2 \\cos(2 \\pi t) + c_3 \\cos(3 \\pi t) + c_4 \\cos(4 \\pi t) + c_5 \\cos(5 \\pi t)\n",
    "$$\n",
    "\n",
    "which interpolates the data\n",
    "\n",
    "$$\n",
    "(0.0,0.86198775) \\ , \\ (0.2,0.42221378) \\ , \\ (0.4,0.67085031) \\ , \\ (0.6,0.81337281) \\ , \\ (0.8,0.06133098) \\ , \\ (1.0,0.18599908)\n",
    "$$"
   ]
  },
  {
   "cell_type": "code",
   "execution_count": 2,
   "id": "f2298c92",
   "metadata": {
    "deletable": false,
    "editable": false,
    "nbgrader": {
     "cell_type": "code",
     "checksum": "9b8740a0e478835ce685fc92bb8273a0",
     "grade": false,
     "grade_id": "cell-cdf85c91880df5d1",
     "locked": true,
     "schema_version": 3,
     "solution": false,
     "task": false
    }
   },
   "outputs": [
    {
     "data": {
      "image/png": "[encoded data removed]",
      "text/plain": [
       "<Figure size 432x288 with 1 Axes>"
      ]
     },
     "metadata": {
      "needs_background": "light"
     },
     "output_type": "display_data"
    }
   ],
   "source": [
    "t = [ 0.0, 0.2, 0.4, 0.6, 0.8, 1.0 ]\n",
    "y = [ 0.86198775, 0.42221378, 0.67085031, 0.81337281, 0.06133098, 0.18599908 ]\n",
    "plt.plot(t,y,'b.'), plt.grid(True)\n",
    "plt.show()"
   ]
  },
  {
   "cell_type": "markdown",
   "id": "5b58a9ee",
   "metadata": {
    "deletable": false,
    "editable": false,
    "nbgrader": {
     "cell_type": "markdown",
     "checksum": "1110ba33d16f413b542aeeb46cc0b19e",
     "grade": false,
     "grade_id": "cell-108f085aee72e36f",
     "locked": true,
     "schema_version": 3,
     "solution": false,
     "task": false
    }
   },
   "source": [
    "### Problem 1a (3 marks)\n",
    "\n",
    "Copy/paste/modify the code below to create the matrix $A_1$ such that the solution of $A_1 \\mathbf{c} = \\mathbf{y}$ is the vector $\\mathbf{c}$ of coefficients (and $\\mathbf{y}$ is the vector of $y$ values)\n",
    "\n",
    "$$\n",
    "\\mathbf{c} = \\begin{bmatrix} c_0 \\\\ c_1 \\\\ c_2 \\\\ c_3 \\\\ c_4 \\\\ c_5 \\end{bmatrix}\n",
    "\\hspace{1in}\n",
    "\\mathbf{y} = \\begin{bmatrix} y_0 \\\\ y_1 \\\\ y_2 \\\\ y_3 \\\\ y_4 \\\\ y_5 \\end{bmatrix}\n",
    "$$\n",
    "\n",
    "```\n",
    "t = np.linspace(0,1,3)\n",
    "A1 = np.stack([np.ones(3),np.cos(np.pi*t),np.cos(2*np.pi*t)],axis=1)\n",
    "```"
   ]
  },
  {
   "cell_type": "code",
   "execution_count": 3,
   "id": "8a497f62",
   "metadata": {
    "deletable": false,
    "nbgrader": {
     "cell_type": "code",
     "checksum": "944da5fe98401931e53a9be829b70470",
     "grade": false,
     "grade_id": "cell-70ae29621c261519",
     "locked": false,
     "schema_version": 3,
     "solution": true,
     "task": false
    }
   },
   "outputs": [],
   "source": [
    "# YOUR CODE HERE\n",
    "t = np.linspace(0,1,6)\n",
    "A1 = np.stack([np.ones(6),np.cos(np.pi*t),np.cos(2*np.pi*t),np.cos(3*np.pi*t),np.cos(4*np.pi*t),np.cos(5*np.pi*t)],axis=1)"
   ]
  },
  {
   "cell_type": "markdown",
   "id": "c7583481",
   "metadata": {
    "deletable": false,
    "editable": false,
    "nbgrader": {
     "cell_type": "markdown",
     "checksum": "f88b8ce9f1c86bce5187f805e59e3c88",
     "grade": false,
     "grade_id": "cell-f86b3d1abf343b77",
     "locked": true,
     "schema_version": 3,
     "solution": false,
     "task": false
    }
   },
   "source": [
    "### Problem 1b (3 marks)\n",
    "\n",
    "Use `scipy.linalg.solve` to compute the solution `c`."
   ]
  },
  {
   "cell_type": "code",
   "execution_count": 7,
   "id": "c1ae6125",
   "metadata": {
    "deletable": false,
    "nbgrader": {
     "cell_type": "code",
     "checksum": "2134a8a09acb0d262c61d0e0cb72c169",
     "grade": false,
     "grade_id": "cell-6a32e2a1e566dd04",
     "locked": false,
     "schema_version": 3,
     "solution": true,
     "task": false
    }
   },
   "outputs": [],
   "source": [
    "# YOUR CODE HERE\n",
    "c = la.solve(A1, y)"
   ]
  },
  {
   "cell_type": "markdown",
   "id": "0383a53b",
   "metadata": {
    "deletable": false,
    "editable": false,
    "nbgrader": {
     "cell_type": "markdown",
     "checksum": "c77245e6f4a1d26b2d3b9b610d2235dc",
     "grade": false,
     "grade_id": "cell-058b17b6f7d733ec",
     "locked": true,
     "schema_version": 3,
     "solution": false,
     "task": false
    }
   },
   "source": [
    "Plot the result to see how the function fits the data:"
   ]
  },
  {
   "cell_type": "code",
   "execution_count": 11,
   "id": "c139c91d",
   "metadata": {
    "deletable": false,
    "editable": false,
    "nbgrader": {
     "cell_type": "code",
     "checksum": "3a25552b1503c27afcc1e1d8145c58e9",
     "grade": false,
     "grade_id": "cell-d517cb2b75f73ae0",
     "locked": true,
     "schema_version": 3,
     "solution": false,
     "task": false
    }
   },
   "outputs": [
    {
     "data": {
      "image/png": "[encoded data removed]",
      "text/plain": [
       "<Figure size 432x288 with 1 Axes>"
      ]
     },
     "metadata": {
      "needs_background": "light"
     },
     "output_type": "display_data"
    }
   ],
   "source": [
    "t = [ 0.0, 0.2, 0.4, 0.6, 0.8, 1.0 ]\n",
    "y = [ 0.86198775, 0.42221378, 0.67085031, 0.81337281, 0.06133098, 0.18599908 ]\n",
    "T = np.linspace(0,1,100)\n",
    "Y = sum([c[k]*np.cos(k*np.pi*T) for k in range(0,len(c))])\n",
    "plt.plot(T,Y,'r',t,y,'b.'), plt.grid(True)\n",
    "plt.show()"
   ]
  },
  {
   "cell_type": "markdown",
   "id": "f46cf167",
   "metadata": {
    "deletable": false,
    "editable": false,
    "nbgrader": {
     "cell_type": "markdown",
     "checksum": "8e582c270710292807cc760d4e23bb3c",
     "grade": false,
     "grade_id": "cell-280ba3742f472ea9",
     "locked": true,
     "schema_version": 3,
     "solution": false,
     "task": false
    }
   },
   "source": [
    "## Problem 2 (6 marks)\n",
    "\n",
    "A [Toeplitz_matrix](https://en.wikipedia.org/wiki/Toeplitz_matrix) has constant values along the diagonal. The function `scipy.linalg.toeplitz` creates a Toeplitz matrix from a given vector. For example:"
   ]
  },
  {
   "cell_type": "code",
   "execution_count": 12,
   "id": "04e14092",
   "metadata": {
    "deletable": false,
    "editable": false,
    "nbgrader": {
     "cell_type": "code",
     "checksum": "7dca1a294b0367fdd731c7cefcdbfa41",
     "grade": false,
     "grade_id": "cell-82f9ccf0c52037e3",
     "locked": true,
     "schema_version": 3,
     "solution": false,
     "task": false
    }
   },
   "outputs": [
    {
     "name": "stdout",
     "output_type": "stream",
     "text": [
      "[[-2  1  0  0  0  0  0]\n",
      " [ 1 -2  1  0  0  0  0]\n",
      " [ 0  1 -2  1  0  0  0]\n",
      " [ 0  0  1 -2  1  0  0]\n",
      " [ 0  0  0  1 -2  1  0]\n",
      " [ 0  0  0  0  1 -2  1]\n",
      " [ 0  0  0  0  0  1 -2]]\n"
     ]
    }
   ],
   "source": [
    "M = la.toeplitz([-2,1,0,0,0,0,0])\n",
    "print(M)"
   ]
  },
  {
   "cell_type": "markdown",
   "id": "fbb49a09",
   "metadata": {
    "deletable": false,
    "editable": false,
    "nbgrader": {
     "cell_type": "markdown",
     "checksum": "ebd7e0a68bc371466462f70f5419dec2",
     "grade": false,
     "grade_id": "cell-ae35b23ca9bc4610",
     "locked": true,
     "schema_version": 3,
     "solution": false,
     "task": false
    }
   },
   "source": [
    "Notes:\n",
    "\n",
    "* Use the function `numpy.linalg.matrix_rank` to compute the rank of a matrix\n",
    "* The nullspace of $M$ is denoted $N(M)$\n",
    "* The range of $M$ is denoted $R(M)$"
   ]
  },
  {
   "cell_type": "markdown",
   "id": "707ce44a",
   "metadata": {
    "deletable": false,
    "editable": false,
    "nbgrader": {
     "cell_type": "markdown",
     "checksum": "e0fa98a620b20cdd2e1a6fc1ea60ff34",
     "grade": false,
     "grade_id": "cell-f0a077d2577005af",
     "locked": true,
     "schema_version": 3,
     "solution": false,
     "task": false
    }
   },
   "source": [
    "### Problem 2a (2 marks)\n",
    "\n",
    "Compute the dimensions of $N(M_1)$ and $R(M_1)$ for the matrix $M_1$ below. Save responses as `nullspace_M1` and `range_M1` respectively."
   ]
  },
  {
   "cell_type": "code",
   "execution_count": 13,
   "id": "45bc2274",
   "metadata": {
    "deletable": false,
    "editable": false,
    "nbgrader": {
     "cell_type": "code",
     "checksum": "335c1ac11599bf1448d38522e2602802",
     "grade": false,
     "grade_id": "cell-a65cfad430e6c49e",
     "locked": true,
     "schema_version": 3,
     "solution": false,
     "task": false
    }
   },
   "outputs": [
    {
     "name": "stdout",
     "output_type": "stream",
     "text": [
      "[[1 1 0 0 0 0 1]\n",
      " [1 1 1 0 0 0 0]\n",
      " [0 1 1 1 0 0 0]\n",
      " [0 0 1 1 1 0 0]\n",
      " [0 0 0 1 1 1 0]\n",
      " [0 0 0 0 1 1 1]\n",
      " [1 0 0 0 0 1 1]]\n"
     ]
    }
   ],
   "source": [
    "M1 = la.toeplitz([1,1,0,0,0,0,1])\n",
    "print(M1)"
   ]
  },
  {
   "cell_type": "code",
   "execution_count": 14,
   "id": "125558c8",
   "metadata": {
    "deletable": false,
    "nbgrader": {
     "cell_type": "code",
     "checksum": "f3626e691951e7eed5e9532a4082157a",
     "grade": false,
     "grade_id": "cell-e87a3acc57041177",
     "locked": false,
     "schema_version": 3,
     "solution": true,
     "task": false
    }
   },
   "outputs": [],
   "source": [
    "# YOUR CODE HERE\n",
    "range_M1 = np.linalg.matrix_rank(M1)\n",
    "nullspace_M1 = 7 - np.linalg.matrix_rank(M1)"
   ]
  },
  {
   "cell_type": "markdown",
   "id": "23404bbf",
   "metadata": {
    "deletable": false,
    "editable": false,
    "nbgrader": {
     "cell_type": "markdown",
     "checksum": "04481fde97ede1f17e12275bac4b8d23",
     "grade": false,
     "grade_id": "cell-9e04e22a39ed1af4",
     "locked": true,
     "schema_version": 3,
     "solution": false,
     "task": false
    }
   },
   "source": [
    "### Problem 2b (2 marks)\n",
    "\n",
    "Compute the dimensions of $N(M_2)$ and $R(M_2)$ for the matrix $M_2$ below. Save responses as `nullspace_M2` and `range_M2` respectively."
   ]
  },
  {
   "cell_type": "code",
   "execution_count": 17,
   "id": "1e1ee6d3",
   "metadata": {
    "deletable": false,
    "editable": false,
    "nbgrader": {
     "cell_type": "code",
     "checksum": "3c33208a9aafe19e2f276533a9f863f7",
     "grade": false,
     "grade_id": "cell-56b34589a78c2fdd",
     "locked": true,
     "schema_version": 3,
     "solution": false,
     "task": false
    }
   },
   "outputs": [
    {
     "name": "stdout",
     "output_type": "stream",
     "text": [
      "[[1 1 0 0 0 1 1]\n",
      " [1 1 1 0 0 0 1]\n",
      " [0 1 1 1 0 0 0]\n",
      " [0 0 1 1 1 0 0]\n",
      " [0 0 0 1 1 1 0]\n",
      " [1 0 0 0 1 1 1]\n",
      " [1 1 0 0 0 1 1]]\n"
     ]
    }
   ],
   "source": [
    "M2 = la.toeplitz([1,1,0,0,0,1,1])\n",
    "print(M2)"
   ]
  },
  {
   "cell_type": "code",
   "execution_count": 18,
   "id": "006db233",
   "metadata": {
    "deletable": false,
    "nbgrader": {
     "cell_type": "code",
     "checksum": "cb0f1deb494eb9aae1649377297a7b6a",
     "grade": false,
     "grade_id": "cell-84e3c13b68598b72",
     "locked": false,
     "schema_version": 3,
     "solution": true,
     "task": false
    }
   },
   "outputs": [],
   "source": [
    "# YOUR CODE HERE\n",
    "range_M2 = np.linalg.matrix_rank(M2)\n",
    "nullspace_M2 = 7 - np.linalg.matrix_rank(M2)"
   ]
  },
  {
   "cell_type": "markdown",
   "id": "a9fbec11",
   "metadata": {
    "deletable": false,
    "editable": false,
    "nbgrader": {
     "cell_type": "markdown",
     "checksum": "47d832a8c2bc978152c902b682db921b",
     "grade": false,
     "grade_id": "cell-9d1687fec485f42d",
     "locked": true,
     "schema_version": 3,
     "solution": false,
     "task": false
    }
   },
   "source": [
    "### Problem 2c (2 marks)\n",
    "\n",
    "Compute the dimensions of $N(M_3)$ and $R(M_3)$ for the matrix $M_3$ below. Save responses as `nullspace_M3` and `range_M3` respectively."
   ]
  },
  {
   "cell_type": "code",
   "execution_count": 21,
   "id": "0b3541f7",
   "metadata": {
    "deletable": false,
    "editable": false,
    "nbgrader": {
     "cell_type": "code",
     "checksum": "8aa9b37c5013cd98dae3c2ba8fdf2eab",
     "grade": false,
     "grade_id": "cell-75ec10a67af6697e",
     "locked": true,
     "schema_version": 3,
     "solution": false,
     "task": false
    }
   },
   "outputs": [
    {
     "name": "stdout",
     "output_type": "stream",
     "text": [
      "[[1 1 1 0 0 0 0]\n",
      " [1 1 1 1 0 0 0]\n",
      " [1 1 1 1 1 0 0]\n",
      " [0 1 1 1 1 1 0]\n",
      " [0 0 1 1 1 1 1]\n",
      " [0 0 0 1 1 1 1]\n",
      " [0 0 0 0 1 1 1]]\n"
     ]
    }
   ],
   "source": [
    "M3 = la.toeplitz([1,1,1,0,0,0,0])\n",
    "print(M3)"
   ]
  },
  {
   "cell_type": "code",
   "execution_count": 22,
   "id": "2a25bd48",
   "metadata": {
    "deletable": false,
    "nbgrader": {
     "cell_type": "code",
     "checksum": "0c5f51b4bbaaefe3a5d73b0503310aff",
     "grade": false,
     "grade_id": "cell-bc2cdef6d64e1fba",
     "locked": false,
     "schema_version": 3,
     "solution": true,
     "task": false
    }
   },
   "outputs": [],
   "source": [
    "# YOUR CODE HERE\n",
    "range_M3 = np.linalg.matrix_rank(M3)\n",
    "nullspace_M3 = 7 - np.linalg.matrix_rank(M3)"
   ]
  },
  {
   "cell_type": "markdown",
   "id": "31785807",
   "metadata": {
    "deletable": false,
    "editable": false,
    "nbgrader": {
     "cell_type": "markdown",
     "checksum": "f3a4acf90a0e37bbc4c889ccc3a1c389",
     "grade": false,
     "grade_id": "cell-816a574688e1597f",
     "locked": true,
     "schema_version": 3,
     "solution": false,
     "task": false
    }
   },
   "source": [
    "## Problem 3 (11 marks)\n",
    "\n",
    "Let $A = Q_1 R_1$ be the thin QR decomposition of $A$. The projection of a vector $\\mathbf{v}$ onto the range $R(A)$ is given by\n",
    "\n",
    "$$\n",
    "\\mathrm{proj}_{R(A)} (\\mathbf{v}) = Q_1 Q_1^T \\mathbf{v}\n",
    "$$\n",
    "\n",
    "Compute the thin QR decomposition with the function [`scipy.linalg.qr`](https://docs.scipy.org/doc/scipy/reference/generated/scipy.linalg.qr.html) with the parameter `mode='economic'`:\n",
    "\n",
    "```\n",
    "Q1,R1 = la.qr(A,mode='economic')\n",
    "```"
   ]
  },
  {
   "cell_type": "markdown",
   "id": "224ebfc8",
   "metadata": {
    "deletable": false,
    "editable": false,
    "nbgrader": {
     "cell_type": "markdown",
     "checksum": "5be34db750cd7be2dce5dcf3c48fa38c",
     "grade": false,
     "grade_id": "cell-91a0845642028749",
     "locked": true,
     "schema_version": 3,
     "solution": false,
     "task": false
    }
   },
   "source": [
    "### Problem 3a (2 marks)\n",
    "\n",
    "Create the matrix\n",
    "\n",
    "$$\n",
    "A_3 = \\begin{bmatrix} 1 & 1 & 0 \\\\ 1 & 1 & 1 \\\\ 0 & 1 & 1 \\\\ 1 & 0 & 1 \\\\ 1 & 2 & 1 \\end{bmatrix}\n",
    "$$\n",
    "\n",
    "and save the result as `A3`."
   ]
  },
  {
   "cell_type": "code",
   "execution_count": 25,
   "id": "7d56ae85",
   "metadata": {
    "deletable": false,
    "nbgrader": {
     "cell_type": "code",
     "checksum": "39cd152df049132a50699a36ed6c6d80",
     "grade": false,
     "grade_id": "cell-920014d158a59552",
     "locked": false,
     "schema_version": 3,
     "solution": true,
     "task": false
    }
   },
   "outputs": [],
   "source": [
    "# YOUR CODE HERE\n",
    "A3 = np.array([[1,1,0],[1,1,1],[0,1,1],[1,0,1],[1,2,1]])"
   ]
  },
  {
   "cell_type": "markdown",
   "id": "1d084be0",
   "metadata": {
    "deletable": false,
    "editable": false,
    "nbgrader": {
     "cell_type": "markdown",
     "checksum": "95b94cecb3f025bb0fd1082d965832b5",
     "grade": false,
     "grade_id": "cell-0d58343307e25fee",
     "locked": true,
     "schema_version": 3,
     "solution": false,
     "task": false
    }
   },
   "source": [
    "### Problem 3b (2 marks)\n",
    "\n",
    "Compute the thin QR decomposition $A_3 = Q_1 R_1$. Save the result as `Q1` and `R1`."
   ]
  },
  {
   "cell_type": "code",
   "execution_count": 47,
   "id": "ba3a65f3",
   "metadata": {
    "deletable": false,
    "nbgrader": {
     "cell_type": "code",
     "checksum": "1ef93406627abc734535464c57933926",
     "grade": false,
     "grade_id": "cell-3ba6f63294eb5c45",
     "locked": false,
     "schema_version": 3,
     "solution": true,
     "task": false
    }
   },
   "outputs": [],
   "source": [
    "# YOUR CODE HERE\n",
    "Q1, R1 = la.qr(A3, mode = 'economic')"
   ]
  },
  {
   "cell_type": "markdown",
   "id": "e954d1ad",
   "metadata": {
    "deletable": false,
    "editable": false,
    "nbgrader": {
     "cell_type": "markdown",
     "checksum": "89d67840acc610261c93e333e87e4702",
     "grade": false,
     "grade_id": "cell-9868e7dbee928ec1",
     "locked": true,
     "schema_version": 3,
     "solution": false,
     "task": false
    }
   },
   "source": [
    "### Problem 3c (3 marks)\n",
    "\n",
    "Use $Q_1$ to compute the projection of $\\mathbf{v}$ onto $R(A_3)$ where\n",
    "\n",
    "$$\n",
    "\\mathbf{v} = \\left[ \\begin{array}{r} 1 \\\\ 2 \\\\ 1 \\\\ 1 \\\\ -1 \\end{array} \\right]\n",
    "$$\n",
    "\n",
    "Save the result as `proj`."
   ]
  },
  {
   "cell_type": "code",
   "execution_count": 42,
   "id": "6925feac",
   "metadata": {
    "deletable": false,
    "nbgrader": {
     "cell_type": "code",
     "checksum": "d37c43ef59e3fd4f2cf19a2f868490f4",
     "grade": false,
     "grade_id": "cell-a2a87177b6945af3",
     "locked": false,
     "schema_version": 3,
     "solution": true,
     "task": false
    }
   },
   "outputs": [
    {
     "name": "stdout",
     "output_type": "stream",
     "text": [
      "[[ 0.64705882  0.11764706 -0.35294118 -0.05882353  0.29411765]\n",
      " [ 0.11764706  0.29411765  0.11764706  0.35294118  0.23529412]\n",
      " [-0.35294118  0.11764706  0.64705882 -0.05882353  0.29411765]\n",
      " [-0.05882353  0.35294118 -0.05882353  0.82352941 -0.11764706]\n",
      " [ 0.29411765  0.23529412  0.29411765 -0.11764706  0.58823529]]\n"
     ]
    }
   ],
   "source": [
    "# YOUR CODE HERE\n",
    "v = np.array([[1],[2],[1],[1],[-1]])\n",
    "proj = np.matmul(np.matmul(Q1,np.transpose(Q1)),v)"
   ]
  },
  {
   "cell_type": "markdown",
   "id": "6bc3fe0c",
   "metadata": {
    "deletable": false,
    "editable": false,
    "nbgrader": {
     "cell_type": "markdown",
     "checksum": "fd3a36c15ec0f58a0c8921cc74299a49",
     "grade": false,
     "grade_id": "cell-04a9340710955f0f",
     "locked": true,
     "schema_version": 3,
     "solution": false,
     "task": false
    }
   },
   "source": [
    "### Problem 3d (2 marks)\n",
    "\n",
    "Find the projection matrix $P$ which projects onto $R(A_3)^{\\perp}$ (the orthogonal complement of the range $R(A_3)$)."
   ]
  },
  {
   "cell_type": "code",
   "execution_count": 43,
   "id": "3bb1eb90",
   "metadata": {
    "deletable": false,
    "nbgrader": {
     "cell_type": "code",
     "checksum": "256099f965f026150ed75f406eead7d1",
     "grade": false,
     "grade_id": "cell-db38b4e28026bd24",
     "locked": false,
     "schema_version": 3,
     "solution": true,
     "task": false
    }
   },
   "outputs": [],
   "source": [
    "# YOUR CODE HERE\n",
    "P = np.eye(5) - np.matmul(Q1,np.transpose(Q1))"
   ]
  },
  {
   "cell_type": "markdown",
   "id": "faeb69ea",
   "metadata": {
    "deletable": false,
    "editable": false,
    "nbgrader": {
     "cell_type": "markdown",
     "checksum": "03141db809c9c3c7ddf394a86d45157b",
     "grade": false,
     "grade_id": "cell-67d5ac11fb60ebea",
     "locked": true,
     "schema_version": 3,
     "solution": false,
     "task": false
    }
   },
   "source": [
    "### Problem 3e (2 marks)\n",
    "\n",
    "Find the shortest distance from the vector\n",
    "\n",
    "$$\n",
    "\\mathbf{w} = \\left[ \\begin{array}{r} 1 \\\\ 3 \\\\ 1 \\\\ 0 \\\\ 2 \\end{array} \\right]\n",
    "$$\n",
    "\n",
    "to the subspace $R(A)$. Save the result as `distance`. Use the function `scipy.linalg.norm` to compute the norm of a matrix."
   ]
  },
  {
   "cell_type": "code",
   "execution_count": 71,
   "id": "471b4f50",
   "metadata": {
    "deletable": false,
    "nbgrader": {
     "cell_type": "code",
     "checksum": "ce37107af683b6b25bb7c1e995222698",
     "grade": false,
     "grade_id": "cell-d4dcdf59c694ce95",
     "locked": false,
     "schema_version": 3,
     "solution": true,
     "task": false
    }
   },
   "outputs": [],
   "source": [
    "# YOUR CODE HERE\n",
    "w = np.array([[1],[3],[1],[0],[2]])\n",
    "distance = la.norm(w - (np.matmul(np.matmul(Q1,np.transpose(Q1)),w)))"
   ]
  }
 ],
 "metadata": {
  "kernelspec": {
   "display_name": "Python 3 (ipykernel)",
   "language": "python",
   "name": "python3"
  },
  "language_info": {
   "codemirror_mode": {
    "name": "ipython",
    "version": 3
   },
   "file_extension": ".py",
   "mimetype": "text/x-python",
   "name": "python",
   "nbconvert_exporter": "python",
   "pygments_lexer": "ipython3",
   "version": "3.9.7"
  }
 },
 "nbformat": 4,
 "nbformat_minor": 5
}
